{
  "nbformat": 4,
  "nbformat_minor": 0,
  "metadata": {
    "colab": {
      "provenance": []
    },
    "kernelspec": {
      "name": "python3",
      "display_name": "Python 3"
    },
    "language_info": {
      "name": "python"
    }
  },
  "cells": [
    {
      "cell_type": "markdown",
      "source": [
        "# **Install necessary packages**"
      ],
      "metadata": {
        "id": "uzEGhi7mt056"
      }
    },
    {
      "cell_type": "code",
      "source": [
        "pip install TensorFlow\n",
        "pip install opencv-python"
      ],
      "metadata": {
        "id": "XdO1IrFtt1qT"
      },
      "execution_count": null,
      "outputs": []
    },
    {
      "cell_type": "markdown",
      "source": [
        "# **Import necessary packages**"
      ],
      "metadata": {
        "id": "HFVp_QFvs3WT"
      }
    },
    {
      "cell_type": "code",
      "source": [
        "import tensorflow as tf\n",
        "import cv2\n",
        "import numpy as np"
      ],
      "metadata": {
        "id": "Gtil2urQhuYS"
      },
      "execution_count": 2,
      "outputs": []
    },
    {
      "cell_type": "markdown",
      "source": [
        "# **Download and preprocess the Open Images V4 dataset.**"
      ],
      "metadata": {
        "id": "HO6eB9sRtOj9"
      }
    },
    {
      "cell_type": "code",
      "source": [
        "import tensorflow_datasets as tfds\n",
        "\n",
        "train_data, info = tfds.load('open_images_v4', split='train', with_info=True)\n",
        "num_classes = info.features['objects']['label'].num_classes"
      ],
      "metadata": {
        "id": "motcleGPhx_Q"
      },
      "execution_count": 3,
      "outputs": []
    },
    {
      "cell_type": "markdown",
      "source": [
        "# **Define and train a deep learning model on the dataset** "
      ],
      "metadata": {
        "id": "PkaC7XPltazt"
      }
    },
    {
      "cell_type": "code",
      "source": [
        "model = tf.keras.Sequential([\n",
        "  tf.keras.layers.Conv2D(32, (3, 3), activation='relu', input_shape=(224, 224, 3)),\n",
        "  tf.keras.layers.MaxPooling2D((2, 2)),\n",
        "  tf.keras.layers.Conv2D(64, (3, 3), activation='relu'),\n",
        "  tf.keras.layers.MaxPooling2D((2, 2)),\n",
        "  tf.keras.layers.Conv2D(64, (3, 3), activation='relu'),\n",
        "  tf.keras.layers.Flatten(),\n",
        "  tf.keras.layers.Dense(64, activation='relu'),\n",
        "  tf.keras.layers.Dense(num_classes, activation='softmax')\n",
        "])\n",
        "\n",
        "model.compile(optimizer='adam',\n",
        "              loss='categorical_crossentropy',\n",
        "              metrics=['accuracy'])\n",
        "\n",
        "model.fit(train_data, epochs=10)"
      ],
      "metadata": {
        "id": "hgN5S_5Eh0Kg"
      },
      "execution_count": 4,
      "outputs": []
    },
    {
      "cell_type": "markdown",
      "source": [
        "# **Use the trained model to make predictions on live video from a web cam**"
      ],
      "metadata": {
        "id": "6j7IpJZptpqB"
      }
    },
    {
      "cell_type": "code",
      "source": [
        "cap = cv2.VideoCapture(0)\n",
        "\n",
        "while True:\n",
        "  ret, frame = cap.read()\n",
        "\n",
        "  # Preprocess the frame\n",
        "  resized_frame = cv2.resize(frame, (224, 224))\n",
        "  input_data = np.expand_dims(resized_frame, axis=0)\n",
        "\n",
        "  # Make predictions\n",
        "  predictions = model.predict(input_data)\n",
        "  class_id = np.argmax(predictions)\n",
        "\n",
        "  # Display the predicted class label\n",
        "  label = info.features['objects']['label'].int2str(class_id)\n",
        "  cv2.putText(frame, label, (10, 50), cv2.FONT_HERSHEY_SIMPLEX, 1, (0, 255, 0), 2, cv2.LINE_AA)\n",
        "  cv2.imshow('frame', frame)\n",
        "\n",
        "  if cv2.waitKey(1) == ord('q'):\n",
        "    break\n",
        "\n",
        "cap.release()\n",
        "cv2.destroyAllWindows()"
      ],
      "metadata": {
        "id": "Xn9GYRxph23R"
      },
      "execution_count": 5,
      "outputs": []
    }
  ]
}